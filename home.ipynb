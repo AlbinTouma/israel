{
 "cells": [
  {
   "cell_type": "code",
   "execution_count": 2,
   "id": "a4d5f6d0",
   "metadata": {},
   "outputs": [],
   "source": [
    "from selenium import webdriver\n",
    "from selenium.webdriver.common.by import By\n",
    "import time"
   ]
  },
  {
   "cell_type": "code",
   "execution_count": null,
   "id": "f682976a",
   "metadata": {},
   "outputs": [
    {
     "name": "stdout",
     "output_type": "stream",
     "text": [
      "446\n"
     ]
    }
   ],
   "source": [
    "def scroll_method():\n",
    "    # This method is used to scroll the page\n",
    "    last_height = 0\n",
    "    while True:\n",
    "        driver.execute_script(\"window.scrollTo(0, document.body.scrollHeight);\")\n",
    "        time.sleep(1)\n",
    "        new_height = driver.execute_script(\"return document.body.scrollHeight\")\n",
    "        if new_height == last_height:\n",
    "            break\n",
    "        else:\n",
    "            last_height = new_height\n",
    "\n",
    "driver  = webdriver.Chrome()\n",
    "driver.get('https://www.timesofisrael.com')\n",
    "time.sleep(2)\n",
    "\n",
    "\n",
    "scroll_method()\n",
    "h = driver.find_elements(By.XPATH, '//div[@class=\"headline\"]/a')\n",
    "\n",
    "print(len(h))\n",
    "\n",
    "for link in h:\n",
    "    driver.execute_script(\"arguments[0].scrollIntoView();\", link)\n",
    "    data = {'title': link.text, \n",
    "     'link': link.get_attribute('href')\n",
    "     }\n",
    "    with open('result.jsonln', 'a') as f:\n",
    "        f.write(f\"{data}\\n\")    \n",
    "\n",
    "driver.quit()"
   ]
  },
  {
   "cell_type": "code",
   "execution_count": null,
   "id": "beee89fb",
   "metadata": {},
   "outputs": [],
   "source": []
  }
 ],
 "metadata": {
  "kernelspec": {
   "display_name": ".env",
   "language": "python",
   "name": "python3"
  },
  "language_info": {
   "codemirror_mode": {
    "name": "ipython",
    "version": 3
   },
   "file_extension": ".py",
   "mimetype": "text/x-python",
   "name": "python",
   "nbconvert_exporter": "python",
   "pygments_lexer": "ipython3",
   "version": "3.12.3"
  }
 },
 "nbformat": 4,
 "nbformat_minor": 5
}
